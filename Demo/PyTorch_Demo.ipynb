{
  "nbformat": 4,
  "nbformat_minor": 0,
  "metadata": {
    "colab": {
      "name": "PyTorch_Demo.ipynb",
      "provenance": [],
      "collapsed_sections": [],
      "mount_file_id": "https://github.com/subhasisj/Deep_Learning_with_PyTorch/blob/master/Demo/PyTorch_Demo.ipynb",
      "authorship_tag": "ABX9TyNuu6unVmchOEg7VWCyXfDH",
      "include_colab_link": true
    },
    "kernelspec": {
      "name": "python3",
      "display_name": "Python 3"
    },
    "accelerator": "GPU"
  },
  "cells": [
    {
      "cell_type": "markdown",
      "metadata": {
        "id": "view-in-github",
        "colab_type": "text"
      },
      "source": [
        "<a href=\"https://colab.research.google.com/github/subhasisj/Deep_Learning_with_PyTorch/blob/master/Demo/PyTorch_Demo.ipynb\" target=\"_parent\"><img src=\"https://colab.research.google.com/assets/colab-badge.svg\" alt=\"Open In Colab\"/></a>"
      ]
    },
    {
      "cell_type": "markdown",
      "metadata": {
        "id": "jT_9aIdFK0ji",
        "colab_type": "text"
      },
      "source": [
        "## Google Colab\n",
        "\n",
        "https://dev.to/kriyeng/8-tips-for-google-colab-notebooks-to-take-advantage-of-their-free-of-charge-12gb-ram-gpu-be4\n",
        "\n",
        "https://towardsdatascience.com/10-tips-for-a-better-google-colab-experience-33f8fe721b82"
      ]
    },
    {
      "cell_type": "markdown",
      "metadata": {
        "id": "c8XBqAJeK7D8",
        "colab_type": "text"
      },
      "source": [
        "## PyTorch Tutorials\n",
        "\n",
        "https://pytorch.org/tutorials/"
      ]
    },
    {
      "cell_type": "markdown",
      "metadata": {
        "id": "rfZqEZn6aAbz",
        "colab_type": "text"
      },
      "source": [
        "## Import Libraries"
      ]
    },
    {
      "cell_type": "code",
      "metadata": {
        "id": "TPH201LPoTQy",
        "colab_type": "code",
        "colab": {}
      },
      "source": [
        "import pandas as pd\n",
        "import numpy as np\n",
        "import matplotlib.pyplot as plt\n",
        "import torch\n",
        "import torch.nn as nn\n",
        "from torch.utils.data import Dataset,DataLoader\n",
        "from sklearn.model_selection import train_test_split\n",
        "from sklearn.preprocessing import StandardScaler,LabelEncoder\n",
        "from sklearn.metrics import classification_report\n",
        "import tqdm"
      ],
      "execution_count": 1,
      "outputs": []
    },
    {
      "cell_type": "code",
      "metadata": {
        "id": "lmaqsSNMo9Jc",
        "colab_type": "code",
        "colab": {}
      },
      "source": [
        "df = pd.read_csv('/content/drive/My Drive/Colab Files/glass_dataset.csv')"
      ],
      "execution_count": 2,
      "outputs": []
    },
    {
      "cell_type": "code",
      "metadata": {
        "id": "38mauG7MpAHn",
        "colab_type": "code",
        "colab": {
          "base_uri": "https://localhost:8080/",
          "height": 204
        },
        "outputId": "105d1cb1-191e-4f8b-8a3a-76b085574f97"
      },
      "source": [
        "df.head()"
      ],
      "execution_count": 3,
      "outputs": [
        {
          "output_type": "execute_result",
          "data": {
            "text/html": [
              "<div>\n",
              "<style scoped>\n",
              "    .dataframe tbody tr th:only-of-type {\n",
              "        vertical-align: middle;\n",
              "    }\n",
              "\n",
              "    .dataframe tbody tr th {\n",
              "        vertical-align: top;\n",
              "    }\n",
              "\n",
              "    .dataframe thead th {\n",
              "        text-align: right;\n",
              "    }\n",
              "</style>\n",
              "<table border=\"1\" class=\"dataframe\">\n",
              "  <thead>\n",
              "    <tr style=\"text-align: right;\">\n",
              "      <th></th>\n",
              "      <th>RI</th>\n",
              "      <th>Na</th>\n",
              "      <th>Mg</th>\n",
              "      <th>Al</th>\n",
              "      <th>Si</th>\n",
              "      <th>K</th>\n",
              "      <th>Ca</th>\n",
              "      <th>Ba</th>\n",
              "      <th>Fe</th>\n",
              "      <th>Type</th>\n",
              "    </tr>\n",
              "  </thead>\n",
              "  <tbody>\n",
              "    <tr>\n",
              "      <th>0</th>\n",
              "      <td>1.52101</td>\n",
              "      <td>13.64</td>\n",
              "      <td>4.49</td>\n",
              "      <td>1.10</td>\n",
              "      <td>71.78</td>\n",
              "      <td>0.06</td>\n",
              "      <td>8.75</td>\n",
              "      <td>0.0</td>\n",
              "      <td>0.0</td>\n",
              "      <td>1</td>\n",
              "    </tr>\n",
              "    <tr>\n",
              "      <th>1</th>\n",
              "      <td>1.51761</td>\n",
              "      <td>13.89</td>\n",
              "      <td>3.60</td>\n",
              "      <td>1.36</td>\n",
              "      <td>72.73</td>\n",
              "      <td>0.48</td>\n",
              "      <td>7.83</td>\n",
              "      <td>0.0</td>\n",
              "      <td>0.0</td>\n",
              "      <td>1</td>\n",
              "    </tr>\n",
              "    <tr>\n",
              "      <th>2</th>\n",
              "      <td>1.51618</td>\n",
              "      <td>13.53</td>\n",
              "      <td>3.55</td>\n",
              "      <td>1.54</td>\n",
              "      <td>72.99</td>\n",
              "      <td>0.39</td>\n",
              "      <td>7.78</td>\n",
              "      <td>0.0</td>\n",
              "      <td>0.0</td>\n",
              "      <td>1</td>\n",
              "    </tr>\n",
              "    <tr>\n",
              "      <th>3</th>\n",
              "      <td>1.51766</td>\n",
              "      <td>13.21</td>\n",
              "      <td>3.69</td>\n",
              "      <td>1.29</td>\n",
              "      <td>72.61</td>\n",
              "      <td>0.57</td>\n",
              "      <td>8.22</td>\n",
              "      <td>0.0</td>\n",
              "      <td>0.0</td>\n",
              "      <td>1</td>\n",
              "    </tr>\n",
              "    <tr>\n",
              "      <th>4</th>\n",
              "      <td>1.51742</td>\n",
              "      <td>13.27</td>\n",
              "      <td>3.62</td>\n",
              "      <td>1.24</td>\n",
              "      <td>73.08</td>\n",
              "      <td>0.55</td>\n",
              "      <td>8.07</td>\n",
              "      <td>0.0</td>\n",
              "      <td>0.0</td>\n",
              "      <td>1</td>\n",
              "    </tr>\n",
              "  </tbody>\n",
              "</table>\n",
              "</div>"
            ],
            "text/plain": [
              "        RI     Na    Mg    Al     Si     K    Ca   Ba   Fe  Type\n",
              "0  1.52101  13.64  4.49  1.10  71.78  0.06  8.75  0.0  0.0     1\n",
              "1  1.51761  13.89  3.60  1.36  72.73  0.48  7.83  0.0  0.0     1\n",
              "2  1.51618  13.53  3.55  1.54  72.99  0.39  7.78  0.0  0.0     1\n",
              "3  1.51766  13.21  3.69  1.29  72.61  0.57  8.22  0.0  0.0     1\n",
              "4  1.51742  13.27  3.62  1.24  73.08  0.55  8.07  0.0  0.0     1"
            ]
          },
          "metadata": {
            "tags": []
          },
          "execution_count": 3
        }
      ]
    },
    {
      "cell_type": "code",
      "metadata": {
        "id": "L7Zn4Yx7pBV5",
        "colab_type": "code",
        "colab": {
          "base_uri": "https://localhost:8080/",
          "height": 136
        },
        "outputId": "aa56654e-64fb-4f85-b7b4-be62e95368e6"
      },
      "source": [
        "df.Type.value_counts()"
      ],
      "execution_count": 4,
      "outputs": [
        {
          "output_type": "execute_result",
          "data": {
            "text/plain": [
              "2    76\n",
              "1    70\n",
              "7    29\n",
              "3    17\n",
              "5    13\n",
              "6     9\n",
              "Name: Type, dtype: int64"
            ]
          },
          "metadata": {
            "tags": []
          },
          "execution_count": 4
        }
      ]
    },
    {
      "cell_type": "code",
      "metadata": {
        "id": "DkhzUTQdqIey",
        "colab_type": "code",
        "colab": {}
      },
      "source": [
        "X = df.drop('Type', axis = 1)\n",
        "y = df['Type']"
      ],
      "execution_count": 5,
      "outputs": []
    },
    {
      "cell_type": "code",
      "metadata": {
        "id": "PDbXK3BkNWbl",
        "colab_type": "code",
        "colab": {}
      },
      "source": [
        "le = LabelEncoder()\n",
        "y_encoded = le.fit_transform(y)\n",
        "\n",
        "sc = StandardScaler()\n",
        "X = sc.fit_transform(X)"
      ],
      "execution_count": 6,
      "outputs": []
    },
    {
      "cell_type": "code",
      "metadata": {
        "id": "vtpPuiKMNZUG",
        "colab_type": "code",
        "colab": {}
      },
      "source": [
        "X_train, X_val, y_train, y_val = train_test_split(X, y_encoded, test_size = 0.3,stratify = y_encoded)\n",
        "X_val, X_test, y_val, y_test = train_test_split(X_val, y_val, test_size = 0.5,stratify = y_val)"
      ],
      "execution_count": 7,
      "outputs": []
    },
    {
      "cell_type": "code",
      "metadata": {
        "id": "0FcpppnxxAv8",
        "colab_type": "code",
        "colab": {
          "base_uri": "https://localhost:8080/",
          "height": 295
        },
        "outputId": "73644350-e263-4b8f-a9bd-c2cf3dc0b2e3"
      },
      "source": [
        "glass_classes = np.unique(y)\n",
        "values = y.value_counts()\n",
        "plt.bar(glass_classes, values)\n",
        "plt.title('Data')\n",
        "plt.xlabel('Glass Classes')\n",
        "plt.ylabel('Examples count')\n",
        "plt.show()"
      ],
      "execution_count": 8,
      "outputs": [
        {
          "output_type": "display_data",
          "data": {
            "image/png": "[encoded data removed]",
            "text/plain": [
              "<Figure size 432x288 with 1 Axes>"
            ]
          },
          "metadata": {
            "tags": [],
            "needs_background": "light"
          }
        }
      ]
    },
    {
      "cell_type": "code",
      "metadata": {
        "id": "-GSgtJ-iw7h-",
        "colab_type": "code",
        "colab": {}
      },
      "source": [
        "X_train, y_train = np.array(X_train), np.array(y_train)\n",
        "X_val, y_val = np.array(X_val), np.array(y_val)\n",
        "X_test, y_test = np.array(X_test), np.array(y_test)"
      ],
      "execution_count": 9,
      "outputs": []
    },
    {
      "cell_type": "code",
      "metadata": {
        "id": "9cfEN3vUqEQr",
        "colab_type": "code",
        "colab": {}
      },
      "source": [
        "BATCH_SIZE = 64\n",
        "LEARNING_RATE = 1e-3"
      ],
      "execution_count": 10,
      "outputs": []
    },
    {
      "cell_type": "markdown",
      "metadata": {
        "id": "3I5OggtZZ1ID",
        "colab_type": "text"
      },
      "source": [
        "## Create Dataset class and Data Loaders"
      ]
    },
    {
      "cell_type": "code",
      "metadata": {
        "id": "5CxG7RdfrtiF",
        "colab_type": "code",
        "colab": {}
      },
      "source": [
        "class Classification_Dataset(Dataset):\n",
        "    \n",
        "    def __init__(self, X_data, y_data):\n",
        "        self.X_data = X_data\n",
        "        self.y_data = y_data\n",
        "        \n",
        "    def __getitem__(self, index):\n",
        "        return self.X_data[index], self.y_data[index]\n",
        "        \n",
        "    def __len__ (self):\n",
        "        return len(self.X_data)"
      ],
      "execution_count": 11,
      "outputs": []
    },
    {
      "cell_type": "code",
      "metadata": {
        "id": "w2WsEzKxsrpV",
        "colab_type": "code",
        "colab": {}
      },
      "source": [
        "train_dataset = Classification_Dataset(torch.from_numpy(X_train).float(), torch.from_numpy(y_train).long())\n",
        "train_loader = DataLoader(dataset=train_dataset, batch_size=BATCH_SIZE, shuffle=True,num_workers=4)"
      ],
      "execution_count": 12,
      "outputs": []
    },
    {
      "cell_type": "code",
      "metadata": {
        "id": "XeZ0p8uSsrk9",
        "colab_type": "code",
        "colab": {}
      },
      "source": [
        "test_dataset = Classification_Dataset(torch.from_numpy(X_test).float(), torch.from_numpy(y_test).long())\n",
        "test_loader = DataLoader(dataset=test_dataset, batch_size=1)"
      ],
      "execution_count": 13,
      "outputs": []
    },
    {
      "cell_type": "code",
      "metadata": {
        "id": "L7roBjemsrJH",
        "colab_type": "code",
        "colab": {}
      },
      "source": [
        "val_dataset = Classification_Dataset(torch.from_numpy(X_val).float(), torch.from_numpy(y_val).long())\n",
        "val_loader = DataLoader(dataset=val_dataset, batch_size=1)"
      ],
      "execution_count": 14,
      "outputs": []
    },
    {
      "cell_type": "markdown",
      "metadata": {
        "id": "dXcq-9rnZxQg",
        "colab_type": "text"
      },
      "source": [
        "## Define Model Architecture"
      ]
    },
    {
      "cell_type": "code",
      "metadata": {
        "id": "WNlHPZ6_ywAj",
        "colab_type": "code",
        "colab": {}
      },
      "source": [
        "# https://towardsdatascience.com/pytorch-tabular-multiclass-classification-9f8211a123ab\n",
        "class GlassClassifier(nn.Module):\n",
        "    def __init__(self, num_feature, num_class):\n",
        "        super(GlassClassifier, self).__init__()\n",
        "        \n",
        "        self.layer_1 = nn.Linear(num_feature, 512)\n",
        "        self.layer_2 = nn.Linear(512, 128)\n",
        "        self.layer_3 = nn.Linear(128, 64)\n",
        "        self.layer_out = nn.Linear(64, num_class) \n",
        "        \n",
        "        self.relu = nn.ReLU()\n",
        "        self.dropout = nn.Dropout(p=0.2)\n",
        "        self.batchnorm1 = nn.BatchNorm1d(512)\n",
        "        self.batchnorm2 = nn.BatchNorm1d(128)\n",
        "        self.batchnorm3 = nn.BatchNorm1d(64)\n",
        "        \n",
        "    def forward(self, x):\n",
        "        x = self.layer_1(x)\n",
        "        x = self.batchnorm1(x)\n",
        "        x = self.relu(x)\n",
        "        \n",
        "        x = self.layer_2(x)\n",
        "        x = self.batchnorm2(x)\n",
        "        x = self.relu(x)\n",
        "        x = self.dropout(x)\n",
        "        \n",
        "        x = self.layer_3(x)\n",
        "        x = self.batchnorm3(x)\n",
        "        x = self.relu(x)\n",
        "        x = self.dropout(x)\n",
        "        \n",
        "        x = self.layer_out(x)\n",
        "        \n",
        "        return x"
      ],
      "execution_count": 18,
      "outputs": []
    },
    {
      "cell_type": "markdown",
      "metadata": {
        "id": "aIsuN2w_ZqRn",
        "colab_type": "text"
      },
      "source": [
        "## Choose GPU if available."
      ]
    },
    {
      "cell_type": "code",
      "metadata": {
        "id": "uDBX4P5gzdar",
        "colab_type": "code",
        "colab": {
          "base_uri": "https://localhost:8080/",
          "height": 34
        },
        "outputId": "dc6bb9f7-e3d2-42df-a1e4-ff8ba15366a0"
      },
      "source": [
        "device = torch.device(\"cuda:0\" if torch.cuda.is_available() else \"cpu\")\n",
        "print('Running on device: {}'.format(device))"
      ],
      "execution_count": 19,
      "outputs": [
        {
          "output_type": "stream",
          "text": [
            "Running on device: cuda:0\n"
          ],
          "name": "stdout"
        }
      ]
    },
    {
      "cell_type": "code",
      "metadata": {
        "id": "UJ36nfmJJcgk",
        "colab_type": "code",
        "colab": {
          "base_uri": "https://localhost:8080/",
          "height": 357
        },
        "outputId": "9c96cb07-e776-4fa5-ce39-25afe8e4293a"
      },
      "source": [
        "!nvidia-smi"
      ],
      "execution_count": 20,
      "outputs": [
        {
          "output_type": "stream",
          "text": [
            "Thu Jun 25 10:29:19 2020       \n",
            "+-----------------------------------------------------------------------------+\n",
            "| NVIDIA-SMI 450.36.06    Driver Version: 418.67       CUDA Version: 10.1     |\n",
            "|-------------------------------+----------------------+----------------------+\n",
            "| GPU  Name        Persistence-M| Bus-Id        Disp.A | Volatile Uncorr. ECC |\n",
            "| Fan  Temp  Perf  Pwr:Usage/Cap|         Memory-Usage | GPU-Util  Compute M. |\n",
            "|                               |                      |               MIG M. |\n",
            "|===============================+======================+======================|\n",
            "|   0  Tesla K80           Off  | 00000000:00:04.0 Off |                    0 |\n",
            "| N/A   33C    P8    26W / 149W |     11MiB / 11441MiB |      0%      Default |\n",
            "|                               |                      |                 ERR! |\n",
            "+-------------------------------+----------------------+----------------------+\n",
            "                                                                               \n",
            "+-----------------------------------------------------------------------------+\n",
            "| Processes:                                                                  |\n",
            "|  GPU   GI   CI        PID   Type   Process name                  GPU Memory |\n",
            "|        ID   ID                                                   Usage      |\n",
            "|=============================================================================|\n",
            "|  No running processes found                                                 |\n",
            "+-----------------------------------------------------------------------------+\n"
          ],
          "name": "stdout"
        }
      ]
    },
    {
      "cell_type": "markdown",
      "metadata": {
        "id": "GH89Zkgjajig",
        "colab_type": "text"
      },
      "source": [
        "## Move Model to GPU if available"
      ]
    },
    {
      "cell_type": "code",
      "metadata": {
        "id": "CQh0EQ3qzrPx",
        "colab_type": "code",
        "colab": {
          "base_uri": "https://localhost:8080/",
          "height": 204
        },
        "outputId": "e0099c99-4b1a-4a96-d311-66d2d20057ef"
      },
      "source": [
        "model = GlassClassifier(num_feature = X.shape[1], num_class=7)\n",
        "model.to(device)\n",
        "print(model)"
      ],
      "execution_count": 21,
      "outputs": [
        {
          "output_type": "stream",
          "text": [
            "GlassClassifier(\n",
            "  (layer_1): Linear(in_features=9, out_features=512, bias=True)\n",
            "  (layer_2): Linear(in_features=512, out_features=128, bias=True)\n",
            "  (layer_3): Linear(in_features=128, out_features=64, bias=True)\n",
            "  (layer_out): Linear(in_features=64, out_features=7, bias=True)\n",
            "  (relu): ReLU()\n",
            "  (dropout): Dropout(p=0.2, inplace=False)\n",
            "  (batchnorm1): BatchNorm1d(512, eps=1e-05, momentum=0.1, affine=True, track_running_stats=True)\n",
            "  (batchnorm2): BatchNorm1d(128, eps=1e-05, momentum=0.1, affine=True, track_running_stats=True)\n",
            "  (batchnorm3): BatchNorm1d(64, eps=1e-05, momentum=0.1, affine=True, track_running_stats=True)\n",
            ")\n"
          ],
          "name": "stdout"
        }
      ]
    },
    {
      "cell_type": "code",
      "metadata": {
        "id": "eFSJ9idIJrC0",
        "colab_type": "code",
        "colab": {
          "base_uri": "https://localhost:8080/",
          "height": 357
        },
        "outputId": "e710931f-544f-451a-ebf0-330813923c5d"
      },
      "source": [
        "!nvidia-smi"
      ],
      "execution_count": 22,
      "outputs": [
        {
          "output_type": "stream",
          "text": [
            "Thu Jun 25 10:30:17 2020       \n",
            "+-----------------------------------------------------------------------------+\n",
            "| NVIDIA-SMI 450.36.06    Driver Version: 418.67       CUDA Version: 10.1     |\n",
            "|-------------------------------+----------------------+----------------------+\n",
            "| GPU  Name        Persistence-M| Bus-Id        Disp.A | Volatile Uncorr. ECC |\n",
            "| Fan  Temp  Perf  Pwr:Usage/Cap|         Memory-Usage | GPU-Util  Compute M. |\n",
            "|                               |                      |               MIG M. |\n",
            "|===============================+======================+======================|\n",
            "|   0  Tesla K80           Off  | 00000000:00:04.0 Off |                    0 |\n",
            "| N/A   42C    P0    55W / 149W |    316MiB / 11441MiB |      0%      Default |\n",
            "|                               |                      |                 ERR! |\n",
            "+-------------------------------+----------------------+----------------------+\n",
            "                                                                               \n",
            "+-----------------------------------------------------------------------------+\n",
            "| Processes:                                                                  |\n",
            "|  GPU   GI   CI        PID   Type   Process name                  GPU Memory |\n",
            "|        ID   ID                                                   Usage      |\n",
            "|=============================================================================|\n",
            "|  No running processes found                                                 |\n",
            "+-----------------------------------------------------------------------------+\n"
          ],
          "name": "stdout"
        }
      ]
    },
    {
      "cell_type": "markdown",
      "metadata": {
        "id": "KCLeg6ceaqXw",
        "colab_type": "text"
      },
      "source": [
        "## Define Training and Validation Classes"
      ]
    },
    {
      "cell_type": "code",
      "metadata": {
        "id": "Ytg9b4UN1AN_",
        "colab_type": "code",
        "colab": {}
      },
      "source": [
        "class Training:\n",
        "\n",
        "    def __init__(self,dataloader,model,device):\n",
        "        \n",
        "        self.dataloader = dataloader\n",
        "        self.model = model\n",
        "        self.optimizer = torch.optim.Adam(model.parameters(), lr=1e-3)\n",
        "        self.device = device\n",
        "        self.loss = nn.CrossEntropyLoss().to(device)\n",
        "\n",
        "    def start(self):\n",
        "        \n",
        "        self.model.train()\n",
        "        all_batch_losses = []\n",
        "        \n",
        "        for inputs,labels in self.dataloader:\n",
        "            inputs = inputs.to(self.device)\n",
        "\n",
        "            labels = labels.to(self.device)\n",
        "            predicted_labels = self.model(inputs)\n",
        "            loss_for_batch = self.loss(predicted_labels,labels)\n",
        "            all_batch_losses.append(np.round(loss_for_batch.item(),4))\n",
        "\n",
        "            # reset graph gradients\n",
        "            self.optimizer.zero_grad()\n",
        "\n",
        "            # Backward pass: compute gradient of the loss with respect to model parameters\n",
        "            loss_for_batch.backward()\n",
        "\n",
        "            nn.utils.clip_grad_norm_(self.model.parameters(),max_norm = 1.0)\n",
        "\n",
        "            # update network parameters\n",
        "            self.optimizer.step()\n",
        "       \n",
        "        return np.mean(all_batch_losses)\n",
        "\n",
        "\n",
        "class Validation(Training):\n",
        "    def __init__(self, dataloader, model, device):\n",
        "            super().__init__(dataloader, model, device)\n",
        "\n",
        "    def start(self):\n",
        "        self.model.eval()\n",
        "        all_batch_losses = []\n",
        "\n",
        "        # with torch.no_grad():\n",
        "        for inputs,label in self.dataloader:\n",
        "            inputs = inputs.to(self.device)\n",
        "            label = label.to(self.device)\n",
        "            predicted_label = self.model(inputs)\n",
        "            loss_for_batch = self.loss(predicted_label,label)\n",
        "            all_batch_losses.append(np.round(loss_for_batch.item(),4))\n",
        "\n",
        "\n",
        "        return np.mean(all_batch_losses)"
      ],
      "execution_count": 23,
      "outputs": []
    },
    {
      "cell_type": "markdown",
      "metadata": {
        "id": "JQBkiNBAavMi",
        "colab_type": "text"
      },
      "source": [
        "## Start Training"
      ]
    },
    {
      "cell_type": "code",
      "metadata": {
        "id": "7qmIn70z2pJO",
        "colab_type": "code",
        "colab": {
          "base_uri": "https://localhost:8080/",
          "height": 1000
        },
        "outputId": "e4540be7-78d1-4e30-90f4-7058575db087"
      },
      "source": [
        "EPOCHS = 100\n",
        "\n",
        "trainer = Training(train_loader,model,device)\n",
        "validation = Validation(val_loader,model,device)\n",
        "epoch_losses = []\n",
        "for epoch in range(EPOCHS):\n",
        "    print(f'Epoch: {epoch+1} / {EPOCHS}:')\n",
        "    try:\n",
        "        training_loss_for_epoch = trainer.start()\n",
        "        epoch_losses.append(training_loss_for_epoch)\n",
        "        print(f'Training Loss: Epoch {epoch+1} ,Loss: {np.round(training_loss_for_epoch,4)}')\n",
        "    \n",
        "        validation_loss_for_epoch = validation.start()\n",
        "        print(f'Validation Loss: Epoch {epoch+1} ,Loss: {np.round(validation_loss_for_epoch,4)}')\n",
        "    except Exception as e:\n",
        "        print(f'Exception occurred during training at epoch {epoch+1} because {str(e)}')\n",
        "        break"
      ],
      "execution_count": 24,
      "outputs": [
        {
          "output_type": "stream",
          "text": [
            "Epoch: 1 / 100:\n",
            "Training Loss: Epoch 1 ,Loss: 1.8767\n",
            "Validation Loss: Epoch 1 ,Loss: 1.8805\n",
            "Epoch: 2 / 100:\n",
            "Training Loss: Epoch 2 ,Loss: 1.4918\n",
            "Validation Loss: Epoch 2 ,Loss: 1.7999\n",
            "Epoch: 3 / 100:\n",
            "Training Loss: Epoch 3 ,Loss: 1.3576\n",
            "Validation Loss: Epoch 3 ,Loss: 1.6942\n",
            "Epoch: 4 / 100:\n",
            "Training Loss: Epoch 4 ,Loss: 1.1844\n",
            "Validation Loss: Epoch 4 ,Loss: 1.5886\n",
            "Epoch: 5 / 100:\n",
            "Training Loss: Epoch 5 ,Loss: 1.121\n",
            "Validation Loss: Epoch 5 ,Loss: 1.489\n",
            "Epoch: 6 / 100:\n",
            "Training Loss: Epoch 6 ,Loss: 1.0187\n",
            "Validation Loss: Epoch 6 ,Loss: 1.3872\n",
            "Epoch: 7 / 100:\n",
            "Training Loss: Epoch 7 ,Loss: 0.9706\n",
            "Validation Loss: Epoch 7 ,Loss: 1.3029\n",
            "Epoch: 8 / 100:\n",
            "Training Loss: Epoch 8 ,Loss: 0.9258\n",
            "Validation Loss: Epoch 8 ,Loss: 1.2365\n",
            "Epoch: 9 / 100:\n",
            "Training Loss: Epoch 9 ,Loss: 0.8886\n",
            "Validation Loss: Epoch 9 ,Loss: 1.198\n",
            "Epoch: 10 / 100:\n",
            "Training Loss: Epoch 10 ,Loss: 0.8623\n",
            "Validation Loss: Epoch 10 ,Loss: 1.1761\n",
            "Epoch: 11 / 100:\n",
            "Training Loss: Epoch 11 ,Loss: 0.7382\n",
            "Validation Loss: Epoch 11 ,Loss: 1.1487\n",
            "Epoch: 12 / 100:\n",
            "Training Loss: Epoch 12 ,Loss: 0.8673\n",
            "Validation Loss: Epoch 12 ,Loss: 1.1447\n",
            "Epoch: 13 / 100:\n",
            "Training Loss: Epoch 13 ,Loss: 0.7314\n",
            "Validation Loss: Epoch 13 ,Loss: 1.1366\n",
            "Epoch: 14 / 100:\n",
            "Training Loss: Epoch 14 ,Loss: 0.5969\n",
            "Validation Loss: Epoch 14 ,Loss: 1.1119\n",
            "Epoch: 15 / 100:\n",
            "Training Loss: Epoch 15 ,Loss: 0.6878\n",
            "Validation Loss: Epoch 15 ,Loss: 1.0961\n",
            "Epoch: 16 / 100:\n",
            "Training Loss: Epoch 16 ,Loss: 0.6313\n",
            "Validation Loss: Epoch 16 ,Loss: 1.1064\n",
            "Epoch: 17 / 100:\n",
            "Training Loss: Epoch 17 ,Loss: 0.5416\n",
            "Validation Loss: Epoch 17 ,Loss: 1.1127\n",
            "Epoch: 18 / 100:\n",
            "Training Loss: Epoch 18 ,Loss: 0.5428\n",
            "Validation Loss: Epoch 18 ,Loss: 1.1023\n",
            "Epoch: 19 / 100:\n",
            "Training Loss: Epoch 19 ,Loss: 0.6361\n",
            "Validation Loss: Epoch 19 ,Loss: 1.0545\n",
            "Epoch: 20 / 100:\n",
            "Training Loss: Epoch 20 ,Loss: 0.5021\n",
            "Validation Loss: Epoch 20 ,Loss: 1.0399\n",
            "Epoch: 21 / 100:\n",
            "Training Loss: Epoch 21 ,Loss: 0.4529\n",
            "Validation Loss: Epoch 21 ,Loss: 1.0931\n",
            "Epoch: 22 / 100:\n",
            "Training Loss: Epoch 22 ,Loss: 0.4279\n",
            "Validation Loss: Epoch 22 ,Loss: 1.1726\n",
            "Epoch: 23 / 100:\n",
            "Training Loss: Epoch 23 ,Loss: 0.416\n",
            "Validation Loss: Epoch 23 ,Loss: 1.2066\n",
            "Epoch: 24 / 100:\n",
            "Training Loss: Epoch 24 ,Loss: 0.4495\n",
            "Validation Loss: Epoch 24 ,Loss: 1.1826\n",
            "Epoch: 25 / 100:\n",
            "Training Loss: Epoch 25 ,Loss: 0.4678\n",
            "Validation Loss: Epoch 25 ,Loss: 1.1432\n",
            "Epoch: 26 / 100:\n",
            "Training Loss: Epoch 26 ,Loss: 0.4062\n",
            "Validation Loss: Epoch 26 ,Loss: 1.087\n",
            "Epoch: 27 / 100:\n",
            "Training Loss: Epoch 27 ,Loss: 0.3815\n",
            "Validation Loss: Epoch 27 ,Loss: 1.0274\n",
            "Epoch: 28 / 100:\n",
            "Training Loss: Epoch 28 ,Loss: 0.3565\n",
            "Validation Loss: Epoch 28 ,Loss: 1.0404\n",
            "Epoch: 29 / 100:\n",
            "Training Loss: Epoch 29 ,Loss: 0.3737\n",
            "Validation Loss: Epoch 29 ,Loss: 1.099\n",
            "Epoch: 30 / 100:\n",
            "Training Loss: Epoch 30 ,Loss: 0.3981\n",
            "Validation Loss: Epoch 30 ,Loss: 1.0905\n",
            "Epoch: 31 / 100:\n",
            "Training Loss: Epoch 31 ,Loss: 0.3776\n",
            "Validation Loss: Epoch 31 ,Loss: 1.1142\n",
            "Epoch: 32 / 100:\n",
            "Training Loss: Epoch 32 ,Loss: 0.3107\n",
            "Validation Loss: Epoch 32 ,Loss: 1.1283\n",
            "Epoch: 33 / 100:\n",
            "Training Loss: Epoch 33 ,Loss: 0.3128\n",
            "Validation Loss: Epoch 33 ,Loss: 1.1969\n",
            "Epoch: 34 / 100:\n",
            "Training Loss: Epoch 34 ,Loss: 0.3091\n",
            "Validation Loss: Epoch 34 ,Loss: 1.2294\n",
            "Epoch: 35 / 100:\n",
            "Training Loss: Epoch 35 ,Loss: 0.2623\n",
            "Validation Loss: Epoch 35 ,Loss: 1.2325\n",
            "Epoch: 36 / 100:\n",
            "Training Loss: Epoch 36 ,Loss: 0.262\n",
            "Validation Loss: Epoch 36 ,Loss: 1.2804\n",
            "Epoch: 37 / 100:\n",
            "Training Loss: Epoch 37 ,Loss: 0.2799\n",
            "Validation Loss: Epoch 37 ,Loss: 1.2833\n",
            "Epoch: 38 / 100:\n",
            "Training Loss: Epoch 38 ,Loss: 0.2772\n",
            "Validation Loss: Epoch 38 ,Loss: 1.2552\n",
            "Epoch: 39 / 100:\n",
            "Training Loss: Epoch 39 ,Loss: 0.2777\n",
            "Validation Loss: Epoch 39 ,Loss: 1.2118\n",
            "Epoch: 40 / 100:\n",
            "Training Loss: Epoch 40 ,Loss: 0.2195\n",
            "Validation Loss: Epoch 40 ,Loss: 1.0988\n",
            "Epoch: 41 / 100:\n",
            "Training Loss: Epoch 41 ,Loss: 0.2454\n",
            "Validation Loss: Epoch 41 ,Loss: 1.0824\n",
            "Epoch: 42 / 100:\n",
            "Training Loss: Epoch 42 ,Loss: 0.286\n",
            "Validation Loss: Epoch 42 ,Loss: 1.1816\n",
            "Epoch: 43 / 100:\n",
            "Training Loss: Epoch 43 ,Loss: 0.2037\n",
            "Validation Loss: Epoch 43 ,Loss: 1.2797\n",
            "Epoch: 44 / 100:\n",
            "Training Loss: Epoch 44 ,Loss: 0.2256\n",
            "Validation Loss: Epoch 44 ,Loss: 1.2788\n",
            "Epoch: 45 / 100:\n",
            "Training Loss: Epoch 45 ,Loss: 0.2929\n",
            "Validation Loss: Epoch 45 ,Loss: 1.2641\n",
            "Epoch: 46 / 100:\n",
            "Training Loss: Epoch 46 ,Loss: 0.2967\n",
            "Validation Loss: Epoch 46 ,Loss: 1.2992\n",
            "Epoch: 47 / 100:\n",
            "Training Loss: Epoch 47 ,Loss: 0.3086\n",
            "Validation Loss: Epoch 47 ,Loss: 1.3672\n",
            "Epoch: 48 / 100:\n",
            "Training Loss: Epoch 48 ,Loss: 0.2035\n",
            "Validation Loss: Epoch 48 ,Loss: 1.3917\n",
            "Epoch: 49 / 100:\n",
            "Training Loss: Epoch 49 ,Loss: 0.2338\n",
            "Validation Loss: Epoch 49 ,Loss: 1.3233\n",
            "Epoch: 50 / 100:\n",
            "Training Loss: Epoch 50 ,Loss: 0.2513\n",
            "Validation Loss: Epoch 50 ,Loss: 1.2871\n",
            "Epoch: 51 / 100:\n",
            "Training Loss: Epoch 51 ,Loss: 0.2385\n",
            "Validation Loss: Epoch 51 ,Loss: 1.1999\n",
            "Epoch: 52 / 100:\n",
            "Training Loss: Epoch 52 ,Loss: 0.2105\n",
            "Validation Loss: Epoch 52 ,Loss: 1.2658\n",
            "Epoch: 53 / 100:\n",
            "Training Loss: Epoch 53 ,Loss: 0.2073\n",
            "Validation Loss: Epoch 53 ,Loss: 1.3298\n",
            "Epoch: 54 / 100:\n",
            "Training Loss: Epoch 54 ,Loss: 0.244\n",
            "Validation Loss: Epoch 54 ,Loss: 1.372\n",
            "Epoch: 55 / 100:\n",
            "Training Loss: Epoch 55 ,Loss: 0.2292\n",
            "Validation Loss: Epoch 55 ,Loss: 1.4153\n",
            "Epoch: 56 / 100:\n",
            "Training Loss: Epoch 56 ,Loss: 0.183\n",
            "Validation Loss: Epoch 56 ,Loss: 1.3793\n",
            "Epoch: 57 / 100:\n",
            "Training Loss: Epoch 57 ,Loss: 0.1561\n",
            "Validation Loss: Epoch 57 ,Loss: 1.3335\n",
            "Epoch: 58 / 100:\n",
            "Training Loss: Epoch 58 ,Loss: 0.2355\n",
            "Validation Loss: Epoch 58 ,Loss: 1.2862\n",
            "Epoch: 59 / 100:\n",
            "Training Loss: Epoch 59 ,Loss: 0.2356\n",
            "Validation Loss: Epoch 59 ,Loss: 1.3175\n",
            "Epoch: 60 / 100:\n",
            "Training Loss: Epoch 60 ,Loss: 0.2021\n",
            "Validation Loss: Epoch 60 ,Loss: 1.3981\n",
            "Epoch: 61 / 100:\n",
            "Training Loss: Epoch 61 ,Loss: 0.1724\n",
            "Validation Loss: Epoch 61 ,Loss: 1.4093\n",
            "Epoch: 62 / 100:\n",
            "Training Loss: Epoch 62 ,Loss: 0.225\n",
            "Validation Loss: Epoch 62 ,Loss: 1.4505\n",
            "Epoch: 63 / 100:\n",
            "Training Loss: Epoch 63 ,Loss: 0.1694\n",
            "Validation Loss: Epoch 63 ,Loss: 1.3977\n",
            "Epoch: 64 / 100:\n",
            "Training Loss: Epoch 64 ,Loss: 0.1823\n",
            "Validation Loss: Epoch 64 ,Loss: 1.3507\n",
            "Epoch: 65 / 100:\n",
            "Training Loss: Epoch 65 ,Loss: 0.3944\n",
            "Validation Loss: Epoch 65 ,Loss: 1.3542\n",
            "Epoch: 66 / 100:\n",
            "Training Loss: Epoch 66 ,Loss: 0.1336\n",
            "Validation Loss: Epoch 66 ,Loss: 1.3591\n",
            "Epoch: 67 / 100:\n",
            "Training Loss: Epoch 67 ,Loss: 0.1148\n",
            "Validation Loss: Epoch 67 ,Loss: 1.3426\n",
            "Epoch: 68 / 100:\n",
            "Training Loss: Epoch 68 ,Loss: 0.1227\n",
            "Validation Loss: Epoch 68 ,Loss: 1.412\n",
            "Epoch: 69 / 100:\n",
            "Training Loss: Epoch 69 ,Loss: 0.2085\n",
            "Validation Loss: Epoch 69 ,Loss: 1.5025\n",
            "Epoch: 70 / 100:\n",
            "Training Loss: Epoch 70 ,Loss: 0.1885\n",
            "Validation Loss: Epoch 70 ,Loss: 1.5096\n",
            "Epoch: 71 / 100:\n",
            "Training Loss: Epoch 71 ,Loss: 0.1916\n",
            "Validation Loss: Epoch 71 ,Loss: 1.4517\n",
            "Epoch: 72 / 100:\n",
            "Training Loss: Epoch 72 ,Loss: 0.2724\n",
            "Validation Loss: Epoch 72 ,Loss: 1.4125\n",
            "Epoch: 73 / 100:\n",
            "Training Loss: Epoch 73 ,Loss: 0.1744\n",
            "Validation Loss: Epoch 73 ,Loss: 1.3988\n",
            "Epoch: 74 / 100:\n",
            "Training Loss: Epoch 74 ,Loss: 0.1664\n",
            "Validation Loss: Epoch 74 ,Loss: 1.4514\n",
            "Epoch: 75 / 100:\n",
            "Training Loss: Epoch 75 ,Loss: 0.1138\n",
            "Validation Loss: Epoch 75 ,Loss: 1.4276\n",
            "Epoch: 76 / 100:\n",
            "Training Loss: Epoch 76 ,Loss: 0.1713\n",
            "Validation Loss: Epoch 76 ,Loss: 1.4058\n",
            "Epoch: 77 / 100:\n",
            "Training Loss: Epoch 77 ,Loss: 0.1403\n",
            "Validation Loss: Epoch 77 ,Loss: 1.371\n",
            "Epoch: 78 / 100:\n",
            "Training Loss: Epoch 78 ,Loss: 0.1087\n",
            "Validation Loss: Epoch 78 ,Loss: 1.5175\n",
            "Epoch: 79 / 100:\n",
            "Training Loss: Epoch 79 ,Loss: 0.1242\n",
            "Validation Loss: Epoch 79 ,Loss: 1.5844\n",
            "Epoch: 80 / 100:\n",
            "Training Loss: Epoch 80 ,Loss: 0.1484\n",
            "Validation Loss: Epoch 80 ,Loss: 1.6273\n",
            "Epoch: 81 / 100:\n",
            "Training Loss: Epoch 81 ,Loss: 0.2079\n",
            "Validation Loss: Epoch 81 ,Loss: 1.6252\n",
            "Epoch: 82 / 100:\n",
            "Training Loss: Epoch 82 ,Loss: 0.1645\n",
            "Validation Loss: Epoch 82 ,Loss: 1.4652\n",
            "Epoch: 83 / 100:\n",
            "Training Loss: Epoch 83 ,Loss: 0.2393\n",
            "Validation Loss: Epoch 83 ,Loss: 1.3492\n",
            "Epoch: 84 / 100:\n",
            "Training Loss: Epoch 84 ,Loss: 0.122\n",
            "Validation Loss: Epoch 84 ,Loss: 1.4364\n",
            "Epoch: 85 / 100:\n",
            "Training Loss: Epoch 85 ,Loss: 0.1304\n",
            "Validation Loss: Epoch 85 ,Loss: 1.5113\n",
            "Epoch: 86 / 100:\n",
            "Training Loss: Epoch 86 ,Loss: 0.2085\n",
            "Validation Loss: Epoch 86 ,Loss: 1.4969\n",
            "Epoch: 87 / 100:\n",
            "Training Loss: Epoch 87 ,Loss: 0.1505\n",
            "Validation Loss: Epoch 87 ,Loss: 1.4742\n",
            "Epoch: 88 / 100:\n",
            "Training Loss: Epoch 88 ,Loss: 0.1796\n",
            "Validation Loss: Epoch 88 ,Loss: 1.4818\n",
            "Epoch: 89 / 100:\n",
            "Training Loss: Epoch 89 ,Loss: 0.2013\n",
            "Validation Loss: Epoch 89 ,Loss: 1.6886\n",
            "Epoch: 90 / 100:\n",
            "Training Loss: Epoch 90 ,Loss: 0.1332\n",
            "Validation Loss: Epoch 90 ,Loss: 1.7744\n",
            "Epoch: 91 / 100:\n",
            "Training Loss: Epoch 91 ,Loss: 0.1061\n",
            "Validation Loss: Epoch 91 ,Loss: 1.7356\n",
            "Epoch: 92 / 100:\n",
            "Training Loss: Epoch 92 ,Loss: 0.1157\n",
            "Validation Loss: Epoch 92 ,Loss: 1.6373\n",
            "Epoch: 93 / 100:\n",
            "Training Loss: Epoch 93 ,Loss: 0.0985\n",
            "Validation Loss: Epoch 93 ,Loss: 1.4493\n",
            "Epoch: 94 / 100:\n",
            "Training Loss: Epoch 94 ,Loss: 0.1909\n",
            "Validation Loss: Epoch 94 ,Loss: 1.4349\n",
            "Epoch: 95 / 100:\n",
            "Training Loss: Epoch 95 ,Loss: 0.1211\n",
            "Validation Loss: Epoch 95 ,Loss: 1.5037\n",
            "Epoch: 96 / 100:\n",
            "Training Loss: Epoch 96 ,Loss: 0.0985\n",
            "Validation Loss: Epoch 96 ,Loss: 1.5866\n",
            "Epoch: 97 / 100:\n",
            "Training Loss: Epoch 97 ,Loss: 0.1507\n",
            "Validation Loss: Epoch 97 ,Loss: 1.6379\n",
            "Epoch: 98 / 100:\n",
            "Training Loss: Epoch 98 ,Loss: 0.1424\n",
            "Validation Loss: Epoch 98 ,Loss: 1.6752\n",
            "Epoch: 99 / 100:\n",
            "Training Loss: Epoch 99 ,Loss: 0.1918\n",
            "Validation Loss: Epoch 99 ,Loss: 1.6831\n",
            "Epoch: 100 / 100:\n",
            "Training Loss: Epoch 100 ,Loss: 0.1219\n",
            "Validation Loss: Epoch 100 ,Loss: 1.6756\n"
          ],
          "name": "stdout"
        }
      ]
    },
    {
      "cell_type": "code",
      "metadata": {
        "id": "06ksSiIs6GDf",
        "colab_type": "code",
        "colab": {}
      },
      "source": [
        "predictions = []\n",
        "with torch.no_grad():\n",
        "    model.eval()\n",
        "    for X_batch, _ in test_loader:\n",
        "        X_batch = X_batch.to(device)\n",
        "        y_pred = model(X_batch)\n",
        "        y_pred = torch.log_softmax(y_pred, dim = 1)\n",
        "        _, y_pred_index = torch.max(y_pred, dim = 1)\n",
        "        predictions.append(y_pred_index.cpu().numpy())"
      ],
      "execution_count": 25,
      "outputs": []
    },
    {
      "cell_type": "code",
      "metadata": {
        "id": "zvF-bVijSbds",
        "colab_type": "code",
        "colab": {
          "base_uri": "https://localhost:8080/",
          "height": 238
        },
        "outputId": "ceb81e1f-b683-4602-e0d2-c6b22a460666"
      },
      "source": [
        "print(classification_report(y_test, predictions))"
      ],
      "execution_count": 26,
      "outputs": [
        {
          "output_type": "stream",
          "text": [
            "              precision    recall  f1-score   support\n",
            "\n",
            "           0       0.67      0.73      0.70        11\n",
            "           1       0.67      0.67      0.67        12\n",
            "           2       0.50      0.50      0.50         2\n",
            "           3       1.00      0.50      0.67         2\n",
            "           4       1.00      1.00      1.00         1\n",
            "           5       0.80      0.80      0.80         5\n",
            "\n",
            "    accuracy                           0.70        33\n",
            "   macro avg       0.77      0.70      0.72        33\n",
            "weighted avg       0.71      0.70      0.70        33\n",
            "\n"
          ],
          "name": "stdout"
        }
      ]
    },
    {
      "cell_type": "code",
      "metadata": {
        "id": "L1ULV8OcS66_",
        "colab_type": "code",
        "colab": {
          "base_uri": "https://localhost:8080/",
          "height": 357
        },
        "outputId": "00e74133-7b25-4248-c047-113d1ba55b8d"
      },
      "source": [
        "!nvidia-smi"
      ],
      "execution_count": 27,
      "outputs": [
        {
          "output_type": "stream",
          "text": [
            "Thu Jun 25 10:40:00 2020       \n",
            "+-----------------------------------------------------------------------------+\n",
            "| NVIDIA-SMI 450.36.06    Driver Version: 418.67       CUDA Version: 10.1     |\n",
            "|-------------------------------+----------------------+----------------------+\n",
            "| GPU  Name        Persistence-M| Bus-Id        Disp.A | Volatile Uncorr. ECC |\n",
            "| Fan  Temp  Perf  Pwr:Usage/Cap|         Memory-Usage | GPU-Util  Compute M. |\n",
            "|                               |                      |               MIG M. |\n",
            "|===============================+======================+======================|\n",
            "|   0  Tesla K80           Off  | 00000000:00:04.0 Off |                    0 |\n",
            "| N/A   53C    P0    58W / 149W |    321MiB / 11441MiB |      0%      Default |\n",
            "|                               |                      |                 ERR! |\n",
            "+-------------------------------+----------------------+----------------------+\n",
            "                                                                               \n",
            "+-----------------------------------------------------------------------------+\n",
            "| Processes:                                                                  |\n",
            "|  GPU   GI   CI        PID   Type   Process name                  GPU Memory |\n",
            "|        ID   ID                                                   Usage      |\n",
            "|=============================================================================|\n",
            "|  No running processes found                                                 |\n",
            "+-----------------------------------------------------------------------------+\n"
          ],
          "name": "stdout"
        }
      ]
    },
    {
      "cell_type": "markdown",
      "metadata": {
        "id": "r6DMMA_-ayk4",
        "colab_type": "text"
      },
      "source": [
        "## Save PyTorch Model\n",
        "\n",
        "https://pytorch.org/tutorials/beginner/saving_loading_models.html"
      ]
    },
    {
      "cell_type": "code",
      "metadata": {
        "id": "Iqf_8ufVcRRr",
        "colab_type": "code",
        "colab": {}
      },
      "source": [
        "SAVE_PATH = './glass_classifier.pth'"
      ],
      "execution_count": 28,
      "outputs": []
    },
    {
      "cell_type": "code",
      "metadata": {
        "id": "qzhW4nn9V-Lq",
        "colab_type": "code",
        "colab": {}
      },
      "source": [
        "torch.save(model.state_dict(), SAVE_PATH )"
      ],
      "execution_count": 29,
      "outputs": []
    },
    {
      "cell_type": "markdown",
      "metadata": {
        "id": "3MYKnfTka3e7",
        "colab_type": "text"
      },
      "source": [
        "## Load Model"
      ]
    },
    {
      "cell_type": "code",
      "metadata": {
        "id": "N7U6UiFlZNRo",
        "colab_type": "code",
        "colab": {}
      },
      "source": [
        "loaded_model = model.load_state_dict(torch.load(SAVE_PATH))"
      ],
      "execution_count": 30,
      "outputs": []
    },
    {
      "cell_type": "markdown",
      "metadata": {
        "id": "4ZGMMFfmKVNC",
        "colab_type": "text"
      },
      "source": [
        "## Quantization\n",
        "\n",
        "https://pytorch.org/blog/introduction-to-quantization-on-pytorch/"
      ]
    },
    {
      "cell_type": "markdown",
      "metadata": {
        "id": "2r8W4xJVovEw",
        "colab_type": "text"
      },
      "source": [
        "## Avoid boilerplate code with PyTorch Lightning\n",
        "\n",
        "https://github.com/PyTorchLightning/pytorch-lightning"
      ]
    },
    {
      "cell_type": "code",
      "metadata": {
        "id": "Z9j0WQmPo3XS",
        "colab_type": "code",
        "colab": {}
      },
      "source": [
        ""
      ],
      "execution_count": null,
      "outputs": []
    }
  ]
}