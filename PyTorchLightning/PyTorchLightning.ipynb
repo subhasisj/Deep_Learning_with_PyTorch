{
 "metadata": {
  "language_info": {
   "codemirror_mode": {
    "name": "ipython",
    "version": 3
   },
   "file_extension": ".py",
   "mimetype": "text/x-python",
   "name": "python",
   "nbconvert_exporter": "python",
   "pygments_lexer": "ipython3",
   "version": "3.8.5-final"
  },
  "orig_nbformat": 2,
  "kernelspec": {
   "name": "Python 3.8.5 64-bit ('pytorchgpu': conda)",
   "display_name": "Python 3.8.5 64-bit ('pytorchgpu': conda)",
   "metadata": {
    "interpreter": {
     "hash": "9ccd59aaf1700f687b27bd82d8fb5685c7264d29ac7c5f5c918558a7fd434024"
    }
   }
  }
 },
 "nbformat": 4,
 "nbformat_minor": 2,
 "cells": [
  {
   "source": [
    "# Train MNIST Classifier using PyTorch Lightning"
   ],
   "cell_type": "markdown",
   "metadata": {}
  },
  {
   "cell_type": "code",
   "execution_count": 1,
   "metadata": {},
   "outputs": [],
   "source": [
    "import torch \n",
    "from torch.nn import functional as F \n",
    "from torchvision.datasets import MNIST\n",
    "from torch.utils.data import DataLoader, random_split\n",
    "from torchvision import transforms\n",
    "import pytorch_lightning as pl"
   ]
  },
  {
   "cell_type": "code",
   "execution_count": 2,
   "metadata": {},
   "outputs": [
    {
     "output_type": "execute_result",
     "data": {
      "text/html": "<img src=\"https://www.learnopencv.com/wp-content/uploads/2020/05/Annotation-2020-05-03-184411.png\" width=\"800\" height=\"400\"/>",
      "text/plain": [
       "<IPython.core.display.Image object>"
      ]
     },
     "metadata": {},
     "execution_count": 2
    }
   ],
   "source": [
    "from IPython.display import Image\n",
    "Image(url='https://www.learnopencv.com/wp-content/uploads/2020/05/Annotation-2020-05-03-184411.png',width=800,height=400)"
   ]
  },
  {
   "cell_type": "code",
   "execution_count": 3,
   "metadata": {},
   "outputs": [],
   "source": [
    "class MNISTModel(pl.LightningModule):\n",
    "    \n",
    "    def __init__(self):\n",
    "        super(MNISTModel,self).__init__()\n",
    "        self.layer1 = torch.nn.Sequential(\n",
    "            torch.nn.Conv2d(1,28,kernel_size = 5),\n",
    "            torch.nn.ReLU(),\n",
    "            torch.nn.MaxPool2d(kernel_size = 2)\n",
    "        )\n",
    "        self.layer2 = torch.nn.Sequential(\n",
    "            torch.nn.Conv2d(28,10,kernel_size = 2),\n",
    "            torch.nn.ReLU(),\n",
    "            torch.nn.MaxPool2d(kernel_size = 2)\n",
    "        )\n",
    "\n",
    "        self.dropout1 = torch.nn.Dropout(0.25)\n",
    "        self.fc1 = torch.nn.Linear(250,18)\n",
    "        self.dropout2 = torch.nn.Dropout(0.08)\n",
    "        self.fc2 = torch.nn.Linear(18,10)\n",
    "\n",
    "\n",
    "    def forward(self,x):\n",
    "        x = self.layer1(x)\n",
    "        x = self.layer2(x)\n",
    "        x = self.dropout1(x)\n",
    "        x = torch.relu(self.fc1(x.view(x.size(0),-1)))\n",
    "        x = F.leaky_relu(self.dropout2(x))\n",
    "\n",
    "        return F.softmax(self.fc2(x))\n",
    "\n",
    "\n",
    "    def configure_optimizers(self):\n",
    "        return torch.optim.Adam(self.parameters())\n",
    "\n",
    "\n",
    "    def training_step(self,batch,batch_idx):\n",
    "        x,labels = batch\n",
    "        pred = self.forward(x)\n",
    "        loss = F.nll_loss(pred,labels)\n",
    "        logs = {'train_loss':loss}\n",
    "\n",
    "        #REQUIRED: It ie required for us to return \"loss\"\n",
    "        output = {\n",
    "                'loss':loss,\n",
    "                'log':logs\n",
    "        }\n",
    "\n",
    "        return output\n",
    "\n",
    "    def prepare_data(self):\n",
    "        MNIST(os.getcwd(),train=True,download=True)\n",
    "        MNIST(os.getcwd(),train=False,download=True)\n",
    "\n",
    "    def train_dataloader(self):\n",
    "        \n",
    "        mnist_train = MNIST(os.getcwd(),train=True,download=False,transform = transforms.ToTensor())\n",
    "        self.train_set, self.val_set = random_split(mnist_train,[55000,5000])\n",
    "        return DataLoader(self.train_set,batch_size = 128)\n",
    "\n",
    "    def val_dataloader(self):\n",
    "        return DataLoader(self.val_set,batch_size=128)\n",
    "\n",
    "    def test_dataloader(self):\n",
    "        return DataLoader(MNIST(os.getcwd(),train=False,download=False,transform = transforms.ToTensor()),batch_size=128)"
   ]
  },
  {
   "cell_type": "code",
   "execution_count": 4,
   "metadata": {},
   "outputs": [
    {
     "output_type": "stream",
     "name": "stderr",
     "text": [
      "GPU available: True, used: True\n",
      "TPU available: False, using: 0 TPU cores\n",
      "LOCAL_RANK: 0 - CUDA_VISIBLE_DEVICES: [0]\n",
      "\n",
      "  | Name     | Type       | Params\n",
      "----------------------------------------\n",
      "0 | layer1   | Sequential | 728   \n",
      "1 | layer2   | Sequential | 1 K   \n",
      "2 | dropout1 | Dropout    | 0     \n",
      "3 | fc1      | Linear     | 4 K   \n",
      "4 | dropout2 | Dropout    | 0     \n",
      "5 | fc2      | Linear     | 190   \n",
      "Epoch 9: 100%|██████████| 430/430 [00:06<00:00, 63.82it/s, loss=-0.957, v_num=19]\n",
      "Time Taken: 0:01:12.345696\n"
     ]
    }
   ],
   "source": [
    "from datetime import datetime\n",
    "start = datetime.now()\n",
    "\n",
    "mytrainer = pl.Trainer(gpus =1,max_epochs = 10)\n",
    "model = MNISTModel()\n",
    "mytrainer.fit(model)\n",
    "\n",
    "print(f'Time Taken: {datetime.now() -start}')"
   ]
  },
  {
   "cell_type": "code",
   "execution_count": 5,
   "metadata": {},
   "outputs": [
    {
     "output_type": "execute_result",
     "data": {
      "text/plain": [
       "51"
      ]
     },
     "metadata": {},
     "execution_count": 5
    }
   ],
   "source": [
    "import gc\n",
    "gc.collect()"
   ]
  },
  {
   "cell_type": "code",
   "execution_count": 7,
   "metadata": {},
   "outputs": [
    {
     "output_type": "stream",
     "name": "stderr",
     "text": [
      "GPU available: True, used: True\n",
      "TPU available: False, using: 0 TPU cores\n",
      "LOCAL_RANK: 0 - CUDA_VISIBLE_DEVICES: [0]\n",
      "Using native 16bit precision.\n",
      "\n",
      "  | Name     | Type       | Params\n",
      "----------------------------------------\n",
      "0 | layer1   | Sequential | 728   \n",
      "1 | layer2   | Sequential | 1 K   \n",
      "2 | dropout1 | Dropout    | 0     \n",
      "3 | fc1      | Linear     | 4 K   \n",
      "4 | dropout2 | Dropout    | 0     \n",
      "5 | fc2      | Linear     | 190   \n",
      "Epoch 9: 100%|██████████| 430/430 [00:07<00:00, 58.87it/s, loss=-0.949, v_num=20]\n",
      "Time Taken: 0:01:16.279126\n"
     ]
    }
   ],
   "source": [
    "start = datetime.now()\n",
    "\n",
    "# Using Fp16 (16-Bit) precision\n",
    "mytrainer = pl.Trainer(gpus =1,max_epochs = 10,precision =16)\n",
    "model = MNISTModel()\n",
    "mytrainer.fit(model)\n",
    "\n",
    "print(f'Time Taken: {datetime.now() -start}')"
   ]
  },
  {
   "cell_type": "code",
   "execution_count": 9,
   "metadata": {},
   "outputs": [],
   "source": [
    "loaded_model =MNISTModel.load_from_checkpoint(checkpoint_path='lightning_logs/version_20/checkpoints/epoch=9.ckpt')"
   ]
  },
  {
   "cell_type": "code",
   "execution_count": 10,
   "metadata": {},
   "outputs": [
    {
     "output_type": "execute_result",
     "data": {
      "text/plain": [
       "MNISTModel(\n",
       "  (layer1): Sequential(\n",
       "    (0): Conv2d(1, 28, kernel_size=(5, 5), stride=(1, 1))\n",
       "    (1): ReLU()\n",
       "    (2): MaxPool2d(kernel_size=2, stride=2, padding=0, dilation=1, ceil_mode=False)\n",
       "  )\n",
       "  (layer2): Sequential(\n",
       "    (0): Conv2d(28, 10, kernel_size=(2, 2), stride=(1, 1))\n",
       "    (1): ReLU()\n",
       "    (2): MaxPool2d(kernel_size=2, stride=2, padding=0, dilation=1, ceil_mode=False)\n",
       "  )\n",
       "  (dropout1): Dropout(p=0.25, inplace=False)\n",
       "  (fc1): Linear(in_features=250, out_features=18, bias=True)\n",
       "  (dropout2): Dropout(p=0.08, inplace=False)\n",
       "  (fc2): Linear(in_features=18, out_features=10, bias=True)\n",
       ")"
      ]
     },
     "metadata": {},
     "execution_count": 10
    }
   ],
   "source": [
    "loaded_model"
   ]
  },
  {
   "cell_type": "code",
   "execution_count": 11,
   "metadata": {},
   "outputs": [
    {
     "output_type": "execute_result",
     "data": {
      "text/plain": [
       "1"
      ]
     },
     "metadata": {},
     "execution_count": 11
    }
   ],
   "source": [
    "mytrainer.test()"
   ]
  },
  {
   "cell_type": "code",
   "execution_count": 13,
   "metadata": {},
   "outputs": [],
   "source": [
    "x = torch.randn(1, 1, 28, 28)\n",
    "out = loaded_model(x)"
   ]
  },
  {
   "cell_type": "code",
   "execution_count": 17,
   "metadata": {},
   "outputs": [
    {
     "output_type": "stream",
     "name": "stdout",
     "text": [
      "tensor(2)\n"
     ]
    }
   ],
   "source": [
    "print(torch.argmax(out))"
   ]
  },
  {
   "cell_type": "code",
   "execution_count": null,
   "metadata": {},
   "outputs": [],
   "source": []
  }
 ]
}